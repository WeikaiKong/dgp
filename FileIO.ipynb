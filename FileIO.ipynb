{
 "cells": [
  {
   "cell_type": "code",
   "execution_count": 2,
   "metadata": {},
   "outputs": [
    {
     "data": {
      "application/vnd.jupyter.widget-view+json": {
       "model_id": "3632fa9579e0430dbfc82cabeffe61f6",
       "version_major": 2,
       "version_minor": 0
      },
      "text/plain": [
       "Renderer(camera=PerspectiveCamera(children=(DirectionalLight(color='white', intensity=0.6, position=(1.0, 0.5,…"
      ]
     },
     "metadata": {},
     "output_type": "display_data"
    }
   ],
   "source": [
    "import igl\n",
    "import scipy as sp\n",
    "import numpy as np\n",
    "from meshplot import plot, subplot, interact\n",
    "import meshplot\n",
    "import os\n",
    "\n",
    "# meshplot.offline()\n",
    "root_folder = os.getcwd()\n",
    "\n",
    "# Mesh representation\n",
    "# numpy: encode vectors and matrices\n",
    "# scipy: sparse matrices\n",
    "v: np.array\n",
    "f: np.array\n",
    "\n",
    "# v: #N by 3 matrix which store coordinates of the vertices\n",
    "# each row stores the coordinate of a vertex, [x, y, z]\n",
    "V = np.array([\n",
    "    [0., 0, 0],\n",
    "    [1, 0, 0],\n",
    "    [1, 1, 1],\n",
    "    [2, 1, 0]\n",
    "])\n",
    "\n",
    "# f: triangle connectivity \n",
    "# each lines devotes a triangle whose 3 vertices are represented as indices pointing to row of f\n",
    "F = np.array([\n",
    "    [0, 1, 2],\n",
    "    [1, 3, 2]\n",
    "])\n",
    "\n",
    "# order of vertex indices in f -> orientation of the triangle\n",
    "# which should be consistent in the entire surface\n",
    "\n",
    "plot(V, F)"
   ]
  },
  {
   "cell_type": "code",
   "execution_count": 6,
   "metadata": {},
   "outputs": [
    {
     "ename": "ValueError",
     "evalue": "File 'c:\\Users\\Weikai Kong\\Desktop\\dgp\\bunny.off' not found.",
     "output_type": "error",
     "traceback": [
      "\u001b[1;31m---------------------------------------------------------------------------\u001b[0m",
      "\u001b[1;31mValueError\u001b[0m                                Traceback (most recent call last)",
      "\u001b[1;32m<ipython-input-6-ec3be19289a7>\u001b[0m in \u001b[0;36m<module>\u001b[1;34m\u001b[0m\n\u001b[0;32m      1\u001b[0m \u001b[1;31m# common mesh formats: igl.read_*, igl.wrote_*\u001b[0m\u001b[1;33m\u001b[0m\u001b[1;33m\u001b[0m\u001b[1;33m\u001b[0m\u001b[0m\n\u001b[0;32m      2\u001b[0m \u001b[1;31m## Load a mesh in OFF format\u001b[0m\u001b[1;33m\u001b[0m\u001b[1;33m\u001b[0m\u001b[1;33m\u001b[0m\u001b[0m\n\u001b[1;32m----> 3\u001b[1;33m \u001b[0mv\u001b[0m\u001b[1;33m,\u001b[0m \u001b[0mf\u001b[0m \u001b[1;33m=\u001b[0m \u001b[0migl\u001b[0m\u001b[1;33m.\u001b[0m\u001b[0mread_triangle_mesh\u001b[0m\u001b[1;33m(\u001b[0m\u001b[0mos\u001b[0m\u001b[1;33m.\u001b[0m\u001b[0mpath\u001b[0m\u001b[1;33m.\u001b[0m\u001b[0mjoin\u001b[0m\u001b[1;33m(\u001b[0m\u001b[0mroot_folder\u001b[0m\u001b[1;33m,\u001b[0m \u001b[1;34m\"bunny.off\"\u001b[0m\u001b[1;33m)\u001b[0m\u001b[1;33m)\u001b[0m\u001b[1;33m\u001b[0m\u001b[1;33m\u001b[0m\u001b[0m\n\u001b[0m\u001b[0;32m      4\u001b[0m \u001b[1;33m\u001b[0m\u001b[0m\n\u001b[0;32m      5\u001b[0m \u001b[1;31m## Print the vertices and faces matrices\u001b[0m\u001b[1;33m\u001b[0m\u001b[1;33m\u001b[0m\u001b[1;33m\u001b[0m\u001b[0m\n",
      "\u001b[1;31mValueError\u001b[0m: File 'c:\\Users\\Weikai Kong\\Desktop\\dgp\\bunny.off' not found."
     ]
    }
   ],
   "source": [
    "# common mesh formats: igl.read_*, igl.wrote_*\n",
    "## Load a mesh in OFF format\n",
    "v, f = igl.read_triangle_mesh(os.path.join(root_folder, \"data\", \"bunny.off\"))\n",
    "\n",
    "## Print the vertices and faces matrices \n",
    "print(\"Vertices: \", len(v))\n",
    "print(\"Faces: \", len(f))\n",
    "\n",
    "## Save the mesh in OBJ format\n",
    "ret = igl.write_triangle_mesh(os.path.join(root_folder, \"data\", \"bunny_out.obj\"), v, f)"
   ]
  }
 ],
 "metadata": {
  "interpreter": {
   "hash": "75fef4db9af4e922483c452ec4347f6f243ce7aa5af9e3c6cd2e77719e935418"
  },
  "kernelspec": {
   "display_name": "Python 3.6.13 ('dgp')",
   "language": "python",
   "name": "python3"
  },
  "language_info": {
   "codemirror_mode": {
    "name": "ipython",
    "version": 3
   },
   "file_extension": ".py",
   "mimetype": "text/x-python",
   "name": "python",
   "nbconvert_exporter": "python",
   "pygments_lexer": "ipython3",
   "version": "3.6.13"
  },
  "orig_nbformat": 4
 },
 "nbformat": 4,
 "nbformat_minor": 2
}
